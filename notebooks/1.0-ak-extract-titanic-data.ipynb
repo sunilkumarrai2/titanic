{
 "cells": [
  {
   "cell_type": "markdown",
   "metadata": {},
   "source": [
    "# Extracting Titanic Disaster Data From Kaggle"
   ]
  },
  {
   "cell_type": "code",
   "execution_count": null,
   "metadata": {},
   "outputs": [],
   "source": [
    "!pip install python-dotenv"
   ]
  },
  {
   "cell_type": "code",
   "execution_count": null,
   "metadata": {},
   "outputs": [],
   "source": [
    "from dotenv import load_dotenv, find_dotenv"
   ]
  },
  {
   "cell_type": "code",
   "execution_count": null,
   "metadata": {},
   "outputs": [],
   "source": [
    "#find .env automatically by walking up directories until its found\n",
    "dotenv_path = find_dotenv()\n",
    "#load up the entries as environment variables\n",
    "load_dotenv(dotenv_path)\n",
    "import os\n",
    "KAGGLE_USERNAME = os.environ.get(\"KAGGLE_USERNAME\")\n",
    "print(KAGGLE_USERNAME)"
   ]
  },
  {
   "cell_type": "markdown",
   "metadata": {},
   "source": [
    "# Building the file script"
   ]
  },
  {
   "cell_type": "code",
   "execution_count": null,
   "metadata": {},
   "outputs": [],
   "source": [
    "import os\n",
    "get_raw_data_script_file = os.path.join(os.path.pardir,'src','data','get_raw_data.py')"
   ]
  },
  {
   "cell_type": "code",
   "execution_count": null,
   "metadata": {},
   "outputs": [],
   "source": [
    "%%writefile $get_raw_data_script_file\n",
    "import os\n",
    "import logging\n",
    "from kaggle.api.kaggle_api_extended import KaggleApi\n",
    "from pathlib import Path\n",
    "import zipfile\n",
    "import time\n",
    "\n",
    "def extract_data(raw_data_path, competition, logger):\n",
    "    logger.info(\"Authenticating to Kaggle\")\n",
    "    api = KaggleApi()\n",
    "    api.authenticate()\n",
    "\n",
    "    logger.info(\"Downloading raw data at '\" + raw_data_path + \"'\")\n",
    "    api.competition_download_files(competition, path=raw_data_path)\n",
    "    \n",
    "    logger.info(\"Unzipping raw data file\")\n",
    "    with zipfile.ZipFile(raw_data_path + \"/\" + competition + \".zip\",\"r\") as zip_ref:\n",
    "        zip_ref.extractall(raw_data_path)\n",
    "\n",
    "    logger.info(\"Deleting zipped raw data file\")\n",
    "    os.remove(raw_data_path + \"/\" + competition + \".zip\")\n",
    "    \n",
    "def main(project_dir):\n",
    "    '''\n",
    "    main method\n",
    "    '''\n",
    "    logger = logging.getLogger(__name__)\n",
    "    logger.info(\"getting raw data\")\n",
    "    \n",
    "    # file paths\n",
    "    raw_data_path = os.path.join(project_dir,'data','raw')\n",
    "    competition = \"titanic\"\n",
    "    extract_data(raw_data_path, competition, logger)\n",
    "    \n",
    "if __name__ == '__main__':\n",
    "    #getting root directory\n",
    "    project_dir = Path(__file__).parents[2]\n",
    "    \n",
    "    #setup logger\n",
    "    log_fmt = '%(asctime)s - %(name)s - %(levelname)s - %(message)s'\n",
    "    logging.basicConfig(level=logging.INFO, format=log_fmt)\n",
    "    \n",
    "    # call the main\n",
    "    main(project_dir)\n"
   ]
  },
  {
   "cell_type": "code",
   "execution_count": null,
   "metadata": {},
   "outputs": [],
   "source": [
    "!python3 $get_raw_data_script_file"
   ]
  },
  {
   "cell_type": "code",
   "execution_count": null,
   "metadata": {},
   "outputs": [],
   "source": []
  }
 ],
 "metadata": {
  "kernelspec": {
   "display_name": "Python 3",
   "language": "python",
   "name": "python3"
  },
  "language_info": {
   "codemirror_mode": {
    "name": "ipython",
    "version": 3
   },
   "file_extension": ".py",
   "mimetype": "text/x-python",
   "name": "python",
   "nbconvert_exporter": "python",
   "pygments_lexer": "ipython3",
   "version": "3.7.7"
  }
 },
 "nbformat": 4,
 "nbformat_minor": 4
}
